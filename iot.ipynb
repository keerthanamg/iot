{
  "nbformat": 4,
  "nbformat_minor": 0,
  "metadata": {
    "colab": {
      "provenance": [],
      "authorship_tag": "ABX9TyPfbrRfb3tRbLlPHGckHVL5",
      "include_colab_link": true
    },
    "kernelspec": {
      "name": "python3",
      "display_name": "Python 3"
    },
    "language_info": {
      "name": "python"
    }
  },
  "cells": [
    {
      "cell_type": "markdown",
      "metadata": {
        "id": "view-in-github",
        "colab_type": "text"
      },
      "source": [
        "<a href=\"https://colab.research.google.com/github/keerthanamg/iot/blob/main/iot.ipynb\" target=\"_parent\"><img src=\"https://colab.research.google.com/assets/colab-badge.svg\" alt=\"Open In Colab\"/></a>"
      ]
    },
    {
      "cell_type": "code",
      "execution_count": null,
      "metadata": {
        "colab": {
          "base_uri": "https://localhost:8080/",
          "height": 626
        },
        "id": "fELsBXLjXFRz",
        "outputId": "e18dfe6f-bd54-4316-82bf-98464b9b80e0"
      },
      "outputs": [
        {
          "output_type": "stream",
          "name": "stdout",
          "text": [
            "Looking in indexes: https://pypi.org/simple, https://us-python.pkg.dev/colab-wheels/public/simple/\n",
            "Collecting machine\n",
            "  Downloading machine-0.0.1-py2.py3-none-any.whl (4.2 kB)\n",
            "Collecting pycrypto (from machine)\n",
            "  Downloading pycrypto-2.6.1.tar.gz (446 kB)\n",
            "\u001b[2K     \u001b[90m━━━━━━━━━━━━━━━━━━━━━━━━━━━━━━━━━━━━━━\u001b[0m \u001b[32m446.2/446.2 kB\u001b[0m \u001b[31m12.0 MB/s\u001b[0m eta \u001b[36m0:00:00\u001b[0m\n",
            "\u001b[?25h  Preparing metadata (setup.py) ... \u001b[?25l\u001b[?25hdone\n",
            "Building wheels for collected packages: pycrypto\n",
            "  Building wheel for pycrypto (setup.py) ... \u001b[?25l\u001b[?25hdone\n",
            "  Created wheel for pycrypto: filename=pycrypto-2.6.1-cp310-cp310-linux_x86_64.whl size=499154 sha256=330e26afd2d4981d884552162a78cb61b8657e879f1060674fea56c0dac7c937\n",
            "  Stored in directory: /root/.cache/pip/wheels/e8/4b/5b/b10a6fc885057b6ff9fbd5691d7e700d0a9408f80b7e6f12e0\n",
            "Successfully built pycrypto\n",
            "Installing collected packages: pycrypto, machine\n",
            "Successfully installed machine-0.0.1 pycrypto-2.6.1\n"
          ]
        },
        {
          "output_type": "error",
          "ename": "ModuleNotFoundError",
          "evalue": "ignored",
          "traceback": [
            "\u001b[0;31m---------------------------------------------------------------------------\u001b[0m",
            "\u001b[0;31mModuleNotFoundError\u001b[0m                       Traceback (most recent call last)",
            "\u001b[0;32m<ipython-input-4-7f73297b50ee>\u001b[0m in \u001b[0;36m<cell line: 4>\u001b[0;34m()\u001b[0m\n\u001b[1;32m      2\u001b[0m \u001b[0;31m#collect.py\u001b[0m\u001b[0;34m\u001b[0m\u001b[0;34m\u001b[0m\u001b[0m\n\u001b[1;32m      3\u001b[0m \u001b[0mget_ipython\u001b[0m\u001b[0;34m(\u001b[0m\u001b[0;34m)\u001b[0m\u001b[0;34m.\u001b[0m\u001b[0msystem\u001b[0m\u001b[0;34m(\u001b[0m\u001b[0;34m'pip install machine'\u001b[0m\u001b[0;34m)\u001b[0m\u001b[0;34m\u001b[0m\u001b[0;34m\u001b[0m\u001b[0m\n\u001b[0;32m----> 4\u001b[0;31m \u001b[0;32mimport\u001b[0m \u001b[0mmachine\u001b[0m\u001b[0;34m\u001b[0m\u001b[0;34m\u001b[0m\u001b[0m\n\u001b[0m\u001b[1;32m      5\u001b[0m \u001b[0;32mimport\u001b[0m \u001b[0mdht\u001b[0m\u001b[0;34m\u001b[0m\u001b[0;34m\u001b[0m\u001b[0m\n\u001b[1;32m      6\u001b[0m \u001b[0;32mimport\u001b[0m \u001b[0mtime\u001b[0m\u001b[0;34m\u001b[0m\u001b[0;34m\u001b[0m\u001b[0m\n",
            "\u001b[0;31mModuleNotFoundError\u001b[0m: No module named 'machine'",
            "",
            "\u001b[0;31m---------------------------------------------------------------------------\u001b[0;32m\nNOTE: If your import is failing due to a missing package, you can\nmanually install dependencies using either !pip or !apt.\n\nTo view examples of installing some common dependencies, click the\n\"Open Examples\" button below.\n\u001b[0;31m---------------------------------------------------------------------------\u001b[0m\n"
          ],
          "errorDetails": {
            "actions": [
              {
                "action": "open_url",
                "actionText": "Open Examples",
                "url": "/notebooks/snippets/importing_libraries.ipynb"
              }
            ]
          }
        }
      ],
      "source": [
        "#P9\n",
        "#collect.py\n",
        "!pip install machine\n",
        "import machine\n",
        "import dht\n",
        "import time\n",
        "\n",
        "# Create a DHT11 object and specify the GPIO pin\n",
        "d = dht.DHT11(machine.Pin(0))\n",
        "\n",
        "# Open the data file for writing\n",
        "with open('data.txt', 'w') as f:\n",
        "\n",
        "    # Write the header row\n",
        "    f.write('Temperature,Humidity\\n')\n",
        "\n",
        "    i = 1000\n",
        "    # Continuously read data from the DHT11 sensor and write it to the file\n",
        "    while i >= 0:\n",
        "        # Read the temperature and humidity from the DHT11 sensor\n",
        "        d.measure()\n",
        "        temperature = d.temperature()\n",
        "        humidity = d.humidity()\n",
        "        print(f\"Temperature: {temperature} c\")\n",
        "        print(f\"Humidity: {humidity}%\")\n",
        "        print()\n",
        "\n",
        "        # Write the temperature and humidity to the file\n",
        "        f.write(f'{temperature},{humidity}\\n')\n",
        "\n",
        "        # Wait for 1 second before taking the next reading\n",
        "        time.sleep(1)\n",
        "        i = i - 1\n",
        "\n",
        "\n",
        "#predict.py\n",
        "import machine\n",
        "import dht\n",
        "import utime\n",
        "\n",
        "# Specify the model coefficients and intercept\n",
        "coefficients = -2.8212674826885054\n",
        "intercept = 151.34381063636422\n",
        "\n",
        "# Create a DHT11 object and specify the GPIO pin\n",
        "d = dht.DHT11(machine.Pin(0))\n",
        "\n",
        "# Continuously read data from the DHT11 sensor and predict the humidity using the loaded model\n",
        "while True:\n",
        "    # Read the temperature from the DHT11 sensor\n",
        "    d.measure()\n",
        "    temperature = d.temperature()\n",
        "    true_humidity = d.humidity()\n",
        "\n",
        "    # Predict the humidity using the loaded model\n",
        "    start_time = utime.ticks_us()\n",
        "    humidity = temperature * coefficients + intercept\n",
        "    end_time = utime.ticks_us()\n",
        "    execution_time_us = utime.ticks_diff(end_time, start_time)\n",
        "\n",
        "    # Print the predicted humidity and the execution time\n",
        "    print(f\"Temperature: {temperature} C\")\n",
        "    print(f\"Predicted Humidity: {humidity:.0f} %\")\n",
        "    print(f\"True Humidity: {true_humidity:.0f} %\")\n",
        "    print(f\"Execution Time: {execution_time_us} μs\")\n",
        "    print()\n",
        "    # Wait for 1 second before taking the next reading\n",
        "    utime.sleep(1)\n",
        "\n",
        "\n",
        "#train.py\n",
        "import pandas as pd\n",
        "from sklearn.linear_model import LinearRegression\n",
        "import json\n",
        "\n",
        "# Load the data from the CSV file\n",
        "data = pd.read_csv('data.txt')\n",
        "\n",
        "# Split the data into input (X) and output (y) variables\n",
        "X = data[['Temperature']]\n",
        "y = data['Humidity']\n",
        "\n",
        "# Create a linear regression model and fit it to the data\n",
        "model = LinearRegression()\n",
        "model.fit(X, y)\n",
        "\n",
        "# Extract the coefficients and intercept from the trained model\n",
        "coefficients = model.coef_[0]\n",
        "intercept = model.intercept_\n",
        "\n",
        "# Create a dictionary to store the model data\n",
        "model_data = {\n",
        "    'coefficients': coefficients,\n",
        "    'intercept': intercept\n",
        "}\n",
        "\n",
        "# Save the model data to a JSON file\n",
        "with open('model.json', 'w') as f:\n",
        "    json.dump(model_data, f)\n"
      ]
    }
  ]
}